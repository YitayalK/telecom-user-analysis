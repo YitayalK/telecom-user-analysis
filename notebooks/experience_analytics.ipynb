{
 "cells": [
  {
   "cell_type": "code",
   "execution_count": 1,
   "metadata": {},
   "outputs": [],
   "source": [
    "from dotenv import load_dotenv \n",
    "import pandas as pd\n",
    "import matplotlib.pyplot as plt\n",
    "import seaborn as sns"
   ]
  },
  {
   "cell_type": "code",
   "execution_count": 4,
   "metadata": {},
   "outputs": [],
   "source": [
    "import sys\n",
    "import os\n",
    "sys.path.append(os.path.abspath('../scripts'))"
   ]
  },
  {
   "cell_type": "code",
   "execution_count": 5,
   "metadata": {},
   "outputs": [],
   "source": [
    "from database_connectivity import load_data_using_sqlalchemy\n",
    "from sql_queries import execute_telecom_queries"
   ]
  },
  {
   "cell_type": "code",
   "execution_count": 6,
   "metadata": {},
   "outputs": [],
   "source": [
    "# Define your SQL query\n",
    "query = \"SELECT * FROM xdr_data;\"\n",
    "\n",
    "# Load data from PostgreSQL using SQLAlchemy\n",
    "df = load_data_using_sqlalchemy(query)"
   ]
  },
  {
   "cell_type": "code",
   "execution_count": 7,
   "metadata": {},
   "outputs": [
    {
     "name": "stdout",
     "output_type": "stream",
     "text": [
      "   MSISDN/Number  TCP DL Retrans. Vol (Bytes)  Avg RTT DL (ms)  \\\n",
      "0   3.366496e+10                          NaN             42.0   \n",
      "1   3.368185e+10                          NaN             65.0   \n",
      "2   3.376063e+10                          NaN              NaN   \n",
      "3   3.375034e+10                          NaN              NaN   \n",
      "4   3.369980e+10                          NaN              NaN   \n",
      "\n",
      "   Avg RTT UL (ms)  Avg Bearer TP DL (kbps)  Avg Bearer TP UL (kbps)  \\\n",
      "0              5.0                     23.0                     44.0   \n",
      "1              5.0                     16.0                     26.0   \n",
      "2              NaN                      6.0                      9.0   \n",
      "3              NaN                     44.0                     44.0   \n",
      "4              NaN                      6.0                      9.0   \n",
      "\n",
      "                  Handset Type  \n",
      "0   Samsung Galaxy A5 Sm-A520F  \n",
      "1  Samsung Galaxy J5 (Sm-J530)  \n",
      "2     Samsung Galaxy A8 (2018)  \n",
      "3                    undefined  \n",
      "4             Samsung Sm-G390F  \n"
     ]
    }
   ],
   "source": [
    "# Assuming the columns tothe dataframe  \n",
    "user_metrics = df[['MSISDN/Number', \n",
    "                   'TCP DL Retrans. Vol (Bytes)', \n",
    "                   'Avg RTT DL (ms)', \n",
    "                   'Avg RTT UL (ms)', \n",
    "                   'Avg Bearer TP DL (kbps)', \n",
    "                   'Avg Bearer TP UL (kbps)', \n",
    "                   'Handset Type']].copy()\n",
    "\n",
    "# Check the first few rows of user_metrics to confirm the data\n",
    "print(user_metrics.head())\n"
   ]
  },
  {
   "cell_type": "code",
   "execution_count": null,
   "metadata": {},
   "outputs": [],
   "source": []
  }
 ],
 "metadata": {
  "kernelspec": {
   "display_name": "teuaven",
   "language": "python",
   "name": "python3"
  },
  "language_info": {
   "codemirror_mode": {
    "name": "ipython",
    "version": 3
   },
   "file_extension": ".py",
   "mimetype": "text/x-python",
   "name": "python",
   "nbconvert_exporter": "python",
   "pygments_lexer": "ipython3",
   "version": "3.12.8"
  }
 },
 "nbformat": 4,
 "nbformat_minor": 2
}
